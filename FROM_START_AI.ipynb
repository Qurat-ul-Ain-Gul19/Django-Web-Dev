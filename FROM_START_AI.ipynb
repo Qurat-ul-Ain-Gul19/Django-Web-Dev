{
  "nbformat": 4,
  "nbformat_minor": 0,
  "metadata": {
    "colab": {
      "name": "FROM_START_AI.ipynb",
      "provenance": [],
      "collapsed_sections": [],
      "include_colab_link": true
    },
    "kernelspec": {
      "display_name": "Python 3",
      "name": "python3"
    }
  },
  "cells": [
    {
      "cell_type": "markdown",
      "metadata": {
        "id": "view-in-github",
        "colab_type": "text"
      },
      "source": [
        "<a href=\"https://colab.research.google.com/github/Qurat-ul-Ain-Gul19/Django-Web-Dev/blob/main/FROM_START_AI.ipynb\" target=\"_parent\"><img src=\"https://colab.research.google.com/assets/colab-badge.svg\" alt=\"Open In Colab\"/></a>"
      ]
    },
    {
      "cell_type": "code",
      "metadata": {
        "id": "f782PbudRC4Q"
      },
      "source": [
        "from tensorflow.keras.models import Sequential\r\n",
        "from tensorflow.keras.layers import Dense\r\n",
        "from tensorflow.keras.optimizers import Adam,SGD\r\n",
        "\r\n",
        "%matplotlib inline\r\n",
        "import numpy as np\r\n",
        "import pandas as pd\r\n",
        "import matplotlib.pyplot as plt"
      ],
      "execution_count": null,
      "outputs": []
    },
    {
      "cell_type": "code",
      "metadata": {
        "colab": {
          "base_uri": "https://localhost:8080/",
          "height": 195
        },
        "id": "GKSppkluQtkF",
        "outputId": "c410d0a1-fd91-4b44-ee72-6904c30757e8"
      },
      "source": [
        "df=pd.read_csv('height_weight.csv')          #reading csv data/ loading csv through pandas\r\n",
        "df.head(5)"
      ],
      "execution_count": null,
      "outputs": [
        {
          "output_type": "execute_result",
          "data": {
            "text/html": [
              "<div>\n",
              "<style scoped>\n",
              "    .dataframe tbody tr th:only-of-type {\n",
              "        vertical-align: middle;\n",
              "    }\n",
              "\n",
              "    .dataframe tbody tr th {\n",
              "        vertical-align: top;\n",
              "    }\n",
              "\n",
              "    .dataframe thead th {\n",
              "        text-align: right;\n",
              "    }\n",
              "</style>\n",
              "<table border=\"1\" class=\"dataframe\">\n",
              "  <thead>\n",
              "    <tr style=\"text-align: right;\">\n",
              "      <th></th>\n",
              "      <th>Gender</th>\n",
              "      <th>Height</th>\n",
              "      <th>Weight</th>\n",
              "    </tr>\n",
              "  </thead>\n",
              "  <tbody>\n",
              "    <tr>\n",
              "      <th>0</th>\n",
              "      <td>Male</td>\n",
              "      <td>73.847017</td>\n",
              "      <td>241.893563</td>\n",
              "    </tr>\n",
              "    <tr>\n",
              "      <th>1</th>\n",
              "      <td>Male</td>\n",
              "      <td>68.781904</td>\n",
              "      <td>162.310473</td>\n",
              "    </tr>\n",
              "    <tr>\n",
              "      <th>2</th>\n",
              "      <td>Male</td>\n",
              "      <td>74.110105</td>\n",
              "      <td>212.740856</td>\n",
              "    </tr>\n",
              "    <tr>\n",
              "      <th>3</th>\n",
              "      <td>Male</td>\n",
              "      <td>71.730978</td>\n",
              "      <td>220.042470</td>\n",
              "    </tr>\n",
              "    <tr>\n",
              "      <th>4</th>\n",
              "      <td>Male</td>\n",
              "      <td>69.881796</td>\n",
              "      <td>206.349801</td>\n",
              "    </tr>\n",
              "  </tbody>\n",
              "</table>\n",
              "</div>"
            ],
            "text/plain": [
              "  Gender     Height      Weight\n",
              "0   Male  73.847017  241.893563\n",
              "1   Male  68.781904  162.310473\n",
              "2   Male  74.110105  212.740856\n",
              "3   Male  71.730978  220.042470\n",
              "4   Male  69.881796  206.349801"
            ]
          },
          "metadata": {
            "tags": []
          },
          "execution_count": 4
        }
      ]
    },
    {
      "cell_type": "code",
      "metadata": {
        "colab": {
          "base_uri": "https://localhost:8080/"
        },
        "id": "EytMlEopRqiU",
        "outputId": "ece9f845-ff37-467a-c58e-332f4e6dbe07"
      },
      "source": [
        "X=df[\"Height\"].values        #input, data\r\n",
        "y_true=df[\"Weight\"].values      #output, answer\r\n",
        "print(X)\r\n"
      ],
      "execution_count": null,
      "outputs": [
        {
          "output_type": "stream",
          "text": [
            "[73.84701702 68.78190405 74.11010539 ... 63.86799221 69.03424313\n",
            " 61.94424588]\n"
          ],
          "name": "stdout"
        }
      ]
    },
    {
      "cell_type": "code",
      "metadata": {
        "colab": {
          "base_uri": "https://localhost:8080/"
        },
        "id": "BOTTc_h3RuQa",
        "outputId": "3dfaefe3-13e6-4dfb-b817-8b69387e2141"
      },
      "source": [
        "print(y_true)"
      ],
      "execution_count": null,
      "outputs": [
        {
          "output_type": "stream",
          "text": [
            "[241.8935632 162.3104725 212.7408556 ... 128.4753188 163.8524613\n",
            " 113.6491027]\n"
          ],
          "name": "stdout"
        }
      ]
    },
    {
      "cell_type": "code",
      "metadata": {
        "colab": {
          "base_uri": "https://localhost:8080/"
        },
        "id": "Ff9gmydSRxBp",
        "outputId": "81a34a07-93cb-4add-d6a2-3d789b5bbdd6"
      },
      "source": [
        "X.shape"
      ],
      "execution_count": null,
      "outputs": [
        {
          "output_type": "execute_result",
          "data": {
            "text/plain": [
              "(10000,)"
            ]
          },
          "metadata": {
            "tags": []
          },
          "execution_count": 7
        }
      ]
    },
    {
      "cell_type": "code",
      "metadata": {
        "colab": {
          "base_uri": "https://localhost:8080/"
        },
        "id": "gw4J5XNsSW3v",
        "outputId": "1d05c904-a916-419b-8920-feb568c2a041"
      },
      "source": [
        "len(X)"
      ],
      "execution_count": null,
      "outputs": [
        {
          "output_type": "execute_result",
          "data": {
            "text/plain": [
              "10000"
            ]
          },
          "metadata": {
            "tags": []
          },
          "execution_count": 8
        }
      ]
    },
    {
      "cell_type": "code",
      "metadata": {
        "id": "edpXWN7rSZpS"
      },
      "source": [
        "model = Sequential()\r\n",
        "\r\n",
        "\r\n",
        "#model structure \r\n",
        "model.add(Dense(1,input_shape=(1,)))\r\n"
      ],
      "execution_count": null,
      "outputs": []
    },
    {
      "cell_type": "code",
      "metadata": {
        "colab": {
          "base_uri": "https://localhost:8080/"
        },
        "id": "q5n8KDOBSeas",
        "outputId": "4ca25725-0746-4d24-ec5f-0248e1d1dd24"
      },
      "source": [
        "model.summary()"
      ],
      "execution_count": null,
      "outputs": [
        {
          "output_type": "stream",
          "text": [
            "Model: \"sequential_6\"\n",
            "_________________________________________________________________\n",
            "Layer (type)                 Output Shape              Param #   \n",
            "=================================================================\n",
            "dense_6 (Dense)              (None, 1)                 2         \n",
            "=================================================================\n",
            "Total params: 2\n",
            "Trainable params: 2\n",
            "Non-trainable params: 0\n",
            "_________________________________________________________________\n"
          ],
          "name": "stdout"
        }
      ]
    },
    {
      "cell_type": "code",
      "metadata": {
        "colab": {
          "base_uri": "https://localhost:8080/"
        },
        "id": "1backWNbShBu",
        "outputId": "f9d7fa64-7c69-4e05-e9de-b6095284f73f"
      },
      "source": [
        "model.compile(Adam(lr=0.5),\"mean_squared_error\",metrics=['accuracy'])\r\n",
        "model.fit(X,y_true,epochs=60)#model training      \r\n",
        "\r\n",
        "\r\n"
      ],
      "execution_count": null,
      "outputs": [
        {
          "output_type": "stream",
          "text": [
            "Epoch 1/60\n",
            "313/313 [==============================] - 1s 768us/step - loss: 1945.2284 - accuracy: 0.0000e+00\n",
            "Epoch 2/60\n",
            "313/313 [==============================] - 0s 767us/step - loss: 570.5150 - accuracy: 0.0000e+00\n",
            "Epoch 3/60\n",
            "313/313 [==============================] - 0s 802us/step - loss: 520.5505 - accuracy: 0.0000e+00\n",
            "Epoch 4/60\n",
            "313/313 [==============================] - 0s 774us/step - loss: 499.4912 - accuracy: 0.0000e+00\n",
            "Epoch 5/60\n",
            "313/313 [==============================] - 0s 777us/step - loss: 473.6594 - accuracy: 0.0000e+00\n",
            "Epoch 6/60\n",
            "313/313 [==============================] - 0s 850us/step - loss: 431.0887 - accuracy: 0.0000e+00\n",
            "Epoch 7/60\n",
            "313/313 [==============================] - 0s 807us/step - loss: 394.8913 - accuracy: 0.0000e+00\n",
            "Epoch 8/60\n",
            "313/313 [==============================] - 0s 841us/step - loss: 379.8279 - accuracy: 0.0000e+00\n",
            "Epoch 9/60\n",
            "313/313 [==============================] - 0s 859us/step - loss: 360.1573 - accuracy: 0.0000e+00\n",
            "Epoch 10/60\n",
            "313/313 [==============================] - 0s 811us/step - loss: 319.5916 - accuracy: 0.0000e+00\n",
            "Epoch 11/60\n",
            "313/313 [==============================] - 0s 829us/step - loss: 293.5338 - accuracy: 0.0000e+00\n",
            "Epoch 12/60\n",
            "313/313 [==============================] - 0s 788us/step - loss: 287.4230 - accuracy: 0.0000e+00\n",
            "Epoch 13/60\n",
            "313/313 [==============================] - 0s 873us/step - loss: 262.6852 - accuracy: 0.0000e+00\n",
            "Epoch 14/60\n",
            "313/313 [==============================] - 0s 914us/step - loss: 245.2846 - accuracy: 0.0000e+00\n",
            "Epoch 15/60\n",
            "313/313 [==============================] - 0s 893us/step - loss: 249.7047 - accuracy: 0.0000e+00\n",
            "Epoch 16/60\n",
            "313/313 [==============================] - 0s 848us/step - loss: 214.9847 - accuracy: 0.0000e+00\n",
            "Epoch 17/60\n",
            "313/313 [==============================] - 0s 827us/step - loss: 210.3270 - accuracy: 0.0000e+00\n",
            "Epoch 18/60\n",
            "313/313 [==============================] - 0s 852us/step - loss: 205.2366 - accuracy: 0.0000e+00\n",
            "Epoch 19/60\n",
            "313/313 [==============================] - 0s 800us/step - loss: 202.7448 - accuracy: 0.0000e+00\n",
            "Epoch 20/60\n",
            "313/313 [==============================] - 0s 846us/step - loss: 185.7654 - accuracy: 0.0000e+00\n",
            "Epoch 21/60\n",
            "313/313 [==============================] - 0s 862us/step - loss: 187.6422 - accuracy: 0.0000e+00\n",
            "Epoch 22/60\n",
            "313/313 [==============================] - 0s 828us/step - loss: 180.2072 - accuracy: 0.0000e+00\n",
            "Epoch 23/60\n",
            "313/313 [==============================] - 0s 799us/step - loss: 173.8301 - accuracy: 0.0000e+00\n",
            "Epoch 24/60\n",
            "313/313 [==============================] - 0s 828us/step - loss: 181.8488 - accuracy: 0.0000e+00\n",
            "Epoch 25/60\n",
            "313/313 [==============================] - 0s 807us/step - loss: 180.3121 - accuracy: 0.0000e+00\n",
            "Epoch 26/60\n",
            "313/313 [==============================] - 0s 840us/step - loss: 182.8890 - accuracy: 0.0000e+00\n",
            "Epoch 27/60\n",
            "313/313 [==============================] - 0s 834us/step - loss: 170.0921 - accuracy: 0.0000e+00\n",
            "Epoch 28/60\n",
            "313/313 [==============================] - 0s 841us/step - loss: 178.3906 - accuracy: 0.0000e+00\n",
            "Epoch 29/60\n",
            "313/313 [==============================] - 0s 793us/step - loss: 178.3048 - accuracy: 0.0000e+00\n",
            "Epoch 30/60\n",
            "313/313 [==============================] - 0s 863us/step - loss: 163.3425 - accuracy: 0.0000e+00\n",
            "Epoch 31/60\n",
            "313/313 [==============================] - 0s 799us/step - loss: 168.2628 - accuracy: 0.0000e+00\n",
            "Epoch 32/60\n",
            "313/313 [==============================] - 0s 857us/step - loss: 182.9696 - accuracy: 0.0000e+00\n",
            "Epoch 33/60\n",
            "313/313 [==============================] - 0s 879us/step - loss: 173.8098 - accuracy: 0.0000e+00\n",
            "Epoch 34/60\n",
            "313/313 [==============================] - 0s 823us/step - loss: 171.7409 - accuracy: 0.0000e+00\n",
            "Epoch 35/60\n",
            "313/313 [==============================] - 0s 809us/step - loss: 173.7763 - accuracy: 0.0000e+00\n",
            "Epoch 36/60\n",
            "313/313 [==============================] - 0s 854us/step - loss: 166.0985 - accuracy: 0.0000e+00\n",
            "Epoch 37/60\n",
            "313/313 [==============================] - 0s 865us/step - loss: 170.6761 - accuracy: 0.0000e+00\n",
            "Epoch 38/60\n",
            "313/313 [==============================] - 0s 833us/step - loss: 163.2262 - accuracy: 0.0000e+00\n",
            "Epoch 39/60\n",
            "313/313 [==============================] - 0s 848us/step - loss: 169.3540 - accuracy: 0.0000e+00\n",
            "Epoch 40/60\n",
            "313/313 [==============================] - 0s 791us/step - loss: 165.5552 - accuracy: 0.0000e+00\n",
            "Epoch 41/60\n",
            "313/313 [==============================] - 0s 876us/step - loss: 166.6425 - accuracy: 0.0000e+00\n",
            "Epoch 42/60\n",
            "313/313 [==============================] - 0s 794us/step - loss: 171.5922 - accuracy: 0.0000e+00\n",
            "Epoch 43/60\n",
            "313/313 [==============================] - 0s 813us/step - loss: 170.9068 - accuracy: 0.0000e+00\n",
            "Epoch 44/60\n",
            "313/313 [==============================] - 0s 797us/step - loss: 169.8699 - accuracy: 0.0000e+00\n",
            "Epoch 45/60\n",
            "313/313 [==============================] - 0s 876us/step - loss: 158.9135 - accuracy: 0.0000e+00\n",
            "Epoch 46/60\n",
            "313/313 [==============================] - 0s 813us/step - loss: 172.3231 - accuracy: 0.0000e+00\n",
            "Epoch 47/60\n",
            "313/313 [==============================] - 0s 843us/step - loss: 170.1713 - accuracy: 0.0000e+00\n",
            "Epoch 48/60\n",
            "313/313 [==============================] - 0s 831us/step - loss: 164.4454 - accuracy: 0.0000e+00\n",
            "Epoch 49/60\n",
            "313/313 [==============================] - 0s 825us/step - loss: 182.9718 - accuracy: 0.0000e+00\n",
            "Epoch 50/60\n",
            "313/313 [==============================] - 0s 847us/step - loss: 166.9412 - accuracy: 0.0000e+00\n",
            "Epoch 51/60\n",
            "313/313 [==============================] - 0s 856us/step - loss: 178.9104 - accuracy: 0.0000e+00\n",
            "Epoch 52/60\n",
            "313/313 [==============================] - 0s 876us/step - loss: 187.9366 - accuracy: 0.0000e+00\n",
            "Epoch 53/60\n",
            "313/313 [==============================] - 0s 836us/step - loss: 161.3788 - accuracy: 0.0000e+00\n",
            "Epoch 54/60\n",
            "313/313 [==============================] - 0s 831us/step - loss: 170.4304 - accuracy: 0.0000e+00\n",
            "Epoch 55/60\n",
            "313/313 [==============================] - 0s 829us/step - loss: 168.1672 - accuracy: 0.0000e+00\n",
            "Epoch 56/60\n",
            "313/313 [==============================] - 0s 878us/step - loss: 156.7474 - accuracy: 0.0000e+00\n",
            "Epoch 57/60\n",
            "313/313 [==============================] - 0s 858us/step - loss: 167.8540 - accuracy: 0.0000e+00\n",
            "Epoch 58/60\n",
            "313/313 [==============================] - 0s 830us/step - loss: 172.4454 - accuracy: 0.0000e+00\n",
            "Epoch 59/60\n",
            "313/313 [==============================] - 0s 837us/step - loss: 179.6564 - accuracy: 0.0000e+00\n",
            "Epoch 60/60\n",
            "313/313 [==============================] - 0s 912us/step - loss: 163.9795 - accuracy: 0.0000e+00\n"
          ],
          "name": "stdout"
        },
        {
          "output_type": "execute_result",
          "data": {
            "text/plain": [
              "<tensorflow.python.keras.callbacks.History at 0x7f81a62e9240>"
            ]
          },
          "metadata": {
            "tags": []
          },
          "execution_count": 70
        }
      ]
    },
    {
      "cell_type": "code",
      "metadata": {
        "colab": {
          "base_uri": "https://localhost:8080/"
        },
        "id": "Dvakfr4sSmqv",
        "outputId": "4cc65ca8-ab67-4d2b-ddb9-506ffaeb8202"
      },
      "source": [
        "y_pred = model.predict(X)\r\n",
        "y_pred"
      ],
      "execution_count": null,
      "outputs": [
        {
          "output_type": "execute_result",
          "data": {
            "text/plain": [
              "array([[214.27231],\n",
              "       [175.5989 ],\n",
              "       [216.2811 ],\n",
              "       ...,\n",
              "       [138.07996],\n",
              "       [177.52554],\n",
              "       [123.39166]], dtype=float32)"
            ]
          },
          "metadata": {
            "tags": []
          },
          "execution_count": 71
        }
      ]
    },
    {
      "cell_type": "code",
      "metadata": {
        "colab": {
          "base_uri": "https://localhost:8080/",
          "height": 312
        },
        "id": "qhIuA7dQSyeS",
        "outputId": "9033c41d-595a-437f-927d-5ea3f8a8e1a9"
      },
      "source": [
        "df.plot(kind=\"scatter\",\r\n",
        "       x=\"Height\",\r\n",
        "        y=\"Weight\",\r\n",
        "        title=\"Height vs Weight with DL\"\r\n",
        "       )\r\n",
        "\r\n",
        "plt.plot(X,y_pred,color='red',linewidth=3)"
      ],
      "execution_count": null,
      "outputs": [
        {
          "output_type": "execute_result",
          "data": {
            "text/plain": [
              "[<matplotlib.lines.Line2D at 0x7f81a5a3c908>]"
            ]
          },
          "metadata": {
            "tags": []
          },
          "execution_count": 72
        },
        {
          "output_type": "display_data",
          "data": {
            "image/png": "[encoded data removed]",
            "text/plain": [
              "<Figure size 432x288 with 1 Axes>"
            ]
          },
          "metadata": {
            "tags": []
          }
        }
      ]
    },
    {
      "cell_type": "code",
      "metadata": {
        "colab": {
          "base_uri": "https://localhost:8080/"
        },
        "id": "ccsEZT-8S3ly",
        "outputId": "416f1695-8518-44da-d75d-a5e986d6e81d"
      },
      "source": [
        "w , b = model.get_weights()\r\n",
        "print(w,b,sep=\"\\n\\n\")"
      ],
      "execution_count": null,
      "outputs": [
        {
          "output_type": "stream",
          "text": [
            "[[7.635252]]\n",
            "\n",
            "[-349.56827]\n"
          ],
          "name": "stdout"
        }
      ]
    },
    {
      "cell_type": "code",
      "metadata": {
        "colab": {
          "base_uri": "https://localhost:8080/"
        },
        "id": "_93syPPmS_UG",
        "outputId": "91dfda7f-79a7-4ce8-e7b9-1acaef9675bd"
      },
      "source": [
        "model.predict([[200]])"
      ],
      "execution_count": null,
      "outputs": [
        {
          "output_type": "execute_result",
          "data": {
            "text/plain": [
              "array([[1177.4822]], dtype=float32)"
            ]
          },
          "metadata": {
            "tags": []
          },
          "execution_count": 74
        }
      ]
    },
    {
      "cell_type": "code",
      "metadata": {
        "colab": {
          "base_uri": "https://localhost:8080/"
        },
        "id": "8x3yWMRXTCe-",
        "outputId": "28fbbbe9-0fb1-43e8-c52e-3dee3a763aa3"
      },
      "source": [
        "model.predict([[73.847017]])"
      ],
      "execution_count": null,
      "outputs": [
        {
          "output_type": "execute_result",
          "data": {
            "text/plain": [
              "array([[214.27231]], dtype=float32)"
            ]
          },
          "metadata": {
            "tags": []
          },
          "execution_count": 76
        }
      ]
    },
    {
      "cell_type": "code",
      "metadata": {
        "id": "A5m_uwwjTInO"
      },
      "source": [
        ""
      ],
      "execution_count": null,
      "outputs": []
    },
    {
      "cell_type": "code",
      "metadata": {
        "id": "G_5gwjKPZVEl"
      },
      "source": [
        ""
      ],
      "execution_count": null,
      "outputs": []
    },
    {
      "cell_type": "code",
      "metadata": {
        "id": "VmubHziSZVHA"
      },
      "source": [
        ""
      ],
      "execution_count": null,
      "outputs": []
    },
    {
      "cell_type": "code",
      "metadata": {
        "id": "W2lRtnSPZVJi"
      },
      "source": [
        ""
      ],
      "execution_count": null,
      "outputs": []
    },
    {
      "cell_type": "code",
      "metadata": {
        "id": "rw7F7yljZVMA"
      },
      "source": [
        ""
      ],
      "execution_count": null,
      "outputs": []
    },
    {
      "cell_type": "code",
      "metadata": {
        "id": "5PJpj6YUZVRe"
      },
      "source": [
        "x = df[\"Height\"].values\r\n",
        "y = df[\"Weight\"].values"
      ],
      "execution_count": null,
      "outputs": []
    },
    {
      "cell_type": "code",
      "metadata": {
        "id": "QudkF0rHZVU4"
      },
      "source": [
        "from tensorflow.keras import models\r\n",
        "from tensorflow.keras import layers"
      ],
      "execution_count": null,
      "outputs": []
    },
    {
      "cell_type": "code",
      "metadata": {
        "id": "L1WMkGnxZcuL"
      },
      "source": [
        "model = models.Sequential()\r\n",
        "model.add(layers.Dense(1, activation='relu', input_dim=1))"
      ],
      "execution_count": null,
      "outputs": []
    },
    {
      "cell_type": "code",
      "metadata": {
        "id": "oJpDrj17Zh4f"
      },
      "source": [
        "model.compile(optimizer='rmsprop', loss='mse', metrics=['accuracy'])"
      ],
      "execution_count": null,
      "outputs": []
    },
    {
      "cell_type": "code",
      "metadata": {
        "colab": {
          "base_uri": "https://localhost:8080/"
        },
        "id": "gjMvy9jSZie8",
        "outputId": "2c529a8b-842c-4821-bb2b-0da6dc460cf9"
      },
      "source": [
        "model.compile(Adam(lr=0.5),\"mean_squared_error\")\r\n",
        "history = model.fit(x,y,epochs=60)#model training      \r\n",
        "\r\n",
        "#epoch :iteration"
      ],
      "execution_count": null,
      "outputs": [
        {
          "output_type": "stream",
          "text": [
            "Epoch 1/60\n",
            "313/313 [==============================] - 0s 768us/step - loss: 1643.9626\n",
            "Epoch 2/60\n",
            "313/313 [==============================] - 0s 741us/step - loss: 560.9020\n",
            "Epoch 3/60\n",
            "313/313 [==============================] - 0s 782us/step - loss: 531.7433\n",
            "Epoch 4/60\n",
            "313/313 [==============================] - 0s 838us/step - loss: 500.7683\n",
            "Epoch 5/60\n",
            "313/313 [==============================] - 0s 790us/step - loss: 458.0609\n",
            "Epoch 6/60\n",
            "313/313 [==============================] - 0s 825us/step - loss: 422.6351\n",
            "Epoch 7/60\n",
            "313/313 [==============================] - 0s 790us/step - loss: 386.1579\n",
            "Epoch 8/60\n",
            "313/313 [==============================] - 0s 804us/step - loss: 358.3851\n",
            "Epoch 9/60\n",
            "313/313 [==============================] - 0s 803us/step - loss: 346.0832\n",
            "Epoch 10/60\n",
            "313/313 [==============================] - 0s 795us/step - loss: 306.5263\n",
            "Epoch 11/60\n",
            "313/313 [==============================] - 0s 834us/step - loss: 310.4050\n",
            "Epoch 12/60\n",
            "313/313 [==============================] - 0s 797us/step - loss: 284.1430\n",
            "Epoch 13/60\n",
            "313/313 [==============================] - 0s 853us/step - loss: 263.8070\n",
            "Epoch 14/60\n",
            "313/313 [==============================] - 0s 806us/step - loss: 241.6687\n",
            "Epoch 15/60\n",
            "313/313 [==============================] - 0s 848us/step - loss: 229.3560\n",
            "Epoch 16/60\n",
            "313/313 [==============================] - 0s 785us/step - loss: 218.3971\n",
            "Epoch 17/60\n",
            "313/313 [==============================] - 0s 852us/step - loss: 207.5316\n",
            "Epoch 18/60\n",
            "313/313 [==============================] - 0s 811us/step - loss: 195.7820\n",
            "Epoch 19/60\n",
            "313/313 [==============================] - 0s 795us/step - loss: 207.9028\n",
            "Epoch 20/60\n",
            "313/313 [==============================] - 0s 868us/step - loss: 201.7114\n",
            "Epoch 21/60\n",
            "313/313 [==============================] - 0s 801us/step - loss: 186.9238\n",
            "Epoch 22/60\n",
            "313/313 [==============================] - 0s 848us/step - loss: 191.8528\n",
            "Epoch 23/60\n",
            "313/313 [==============================] - 0s 801us/step - loss: 183.2827\n",
            "Epoch 24/60\n",
            "313/313 [==============================] - 0s 844us/step - loss: 180.1563\n",
            "Epoch 25/60\n",
            "313/313 [==============================] - 0s 772us/step - loss: 174.0122\n",
            "Epoch 26/60\n",
            "313/313 [==============================] - 0s 795us/step - loss: 185.2838\n",
            "Epoch 27/60\n",
            "313/313 [==============================] - 0s 860us/step - loss: 172.9252\n",
            "Epoch 28/60\n",
            "313/313 [==============================] - 0s 854us/step - loss: 194.3075\n",
            "Epoch 29/60\n",
            "313/313 [==============================] - 0s 793us/step - loss: 168.9095\n",
            "Epoch 30/60\n",
            "313/313 [==============================] - 0s 909us/step - loss: 172.5224\n",
            "Epoch 31/60\n",
            "313/313 [==============================] - 0s 877us/step - loss: 176.4007\n",
            "Epoch 32/60\n",
            "313/313 [==============================] - 0s 840us/step - loss: 175.7157\n",
            "Epoch 33/60\n",
            "313/313 [==============================] - 0s 816us/step - loss: 173.7269\n",
            "Epoch 34/60\n",
            "313/313 [==============================] - 0s 790us/step - loss: 169.1856\n",
            "Epoch 35/60\n",
            "313/313 [==============================] - 0s 844us/step - loss: 171.6852\n",
            "Epoch 36/60\n",
            "313/313 [==============================] - 0s 826us/step - loss: 169.0333\n",
            "Epoch 37/60\n",
            "313/313 [==============================] - 0s 826us/step - loss: 164.4856\n",
            "Epoch 38/60\n",
            "313/313 [==============================] - 0s 810us/step - loss: 163.4709\n",
            "Epoch 39/60\n",
            "313/313 [==============================] - 0s 860us/step - loss: 165.8030\n",
            "Epoch 40/60\n",
            "313/313 [==============================] - 0s 877us/step - loss: 172.5487\n",
            "Epoch 41/60\n",
            "313/313 [==============================] - 0s 852us/step - loss: 164.0656\n",
            "Epoch 42/60\n",
            "313/313 [==============================] - 0s 804us/step - loss: 174.8852\n",
            "Epoch 43/60\n",
            "313/313 [==============================] - 0s 845us/step - loss: 170.8642\n",
            "Epoch 44/60\n",
            "313/313 [==============================] - 0s 827us/step - loss: 161.7196\n",
            "Epoch 45/60\n",
            "313/313 [==============================] - 0s 813us/step - loss: 184.4660\n",
            "Epoch 46/60\n",
            "313/313 [==============================] - 0s 810us/step - loss: 158.0657\n",
            "Epoch 47/60\n",
            "313/313 [==============================] - 0s 856us/step - loss: 165.9870\n",
            "Epoch 48/60\n",
            "313/313 [==============================] - 0s 809us/step - loss: 172.7451\n",
            "Epoch 49/60\n",
            "313/313 [==============================] - 0s 835us/step - loss: 166.7549\n",
            "Epoch 50/60\n",
            "313/313 [==============================] - 0s 784us/step - loss: 176.0240\n",
            "Epoch 51/60\n",
            "313/313 [==============================] - 0s 865us/step - loss: 180.0509\n",
            "Epoch 52/60\n",
            "313/313 [==============================] - 0s 798us/step - loss: 177.8767\n",
            "Epoch 53/60\n",
            "313/313 [==============================] - 0s 788us/step - loss: 169.9840\n",
            "Epoch 54/60\n",
            "313/313 [==============================] - 0s 861us/step - loss: 169.7149\n",
            "Epoch 55/60\n",
            "313/313 [==============================] - 0s 852us/step - loss: 166.5501\n",
            "Epoch 56/60\n",
            "313/313 [==============================] - 0s 846us/step - loss: 170.1908\n",
            "Epoch 57/60\n",
            "313/313 [==============================] - 0s 802us/step - loss: 181.7383\n",
            "Epoch 58/60\n",
            "313/313 [==============================] - 0s 802us/step - loss: 174.0997\n",
            "Epoch 59/60\n",
            "313/313 [==============================] - 0s 847us/step - loss: 186.1227\n",
            "Epoch 60/60\n",
            "313/313 [==============================] - 0s 853us/step - loss: 170.1536\n"
          ],
          "name": "stdout"
        }
      ]
    },
    {
      "cell_type": "code",
      "metadata": {
        "colab": {
          "base_uri": "https://localhost:8080/"
        },
        "id": "WJ59HOjrZirU",
        "outputId": "f71e2254-5fe0-4d80-cba4-e0feebfb21e5"
      },
      "source": [
        "model.evaluate(x,y)"
      ],
      "execution_count": null,
      "outputs": [
        {
          "output_type": "stream",
          "text": [
            "313/313 [==============================] - 0s 694us/step - loss: 150.0490\n"
          ],
          "name": "stdout"
        },
        {
          "output_type": "execute_result",
          "data": {
            "text/plain": [
              "150.0489959716797"
            ]
          },
          "metadata": {
            "tags": []
          },
          "execution_count": 146
        }
      ]
    },
    {
      "cell_type": "code",
      "metadata": {
        "colab": {
          "base_uri": "https://localhost:8080/"
        },
        "id": "bH0nagIrZiuO",
        "outputId": "e6b241e1-9756-447e-df9a-9c002dfca0cb"
      },
      "source": [
        "y_pred = model.predict(x)\r\n",
        "y_pred"
      ],
      "execution_count": null,
      "outputs": [
        {
          "output_type": "execute_result",
          "data": {
            "text/plain": [
              "array([[218.07047],\n",
              "       [179.13724],\n",
              "       [220.09274],\n",
              "       ...,\n",
              "       [141.36618],\n",
              "       [181.07681],\n",
              "       [126.57919]], dtype=float32)"
            ]
          },
          "metadata": {
            "tags": []
          },
          "execution_count": 147
        }
      ]
    },
    {
      "cell_type": "code",
      "metadata": {
        "colab": {
          "base_uri": "https://localhost:8080/"
        },
        "id": "0nTzkASCZiwk",
        "outputId": "d16592e0-fc0f-4fad-d06b-ce62afdeeb6b"
      },
      "source": [
        "w,b = model.get_weights()\r\n",
        "print(w,b,sep=\"\\n\\n\")"
      ],
      "execution_count": null,
      "outputs": [
        {
          "output_type": "stream",
          "text": [
            "[[7.6865544]]\n",
            "\n",
            "[-349.55862]\n"
          ],
          "name": "stdout"
        }
      ]
    },
    {
      "cell_type": "code",
      "metadata": {
        "colab": {
          "base_uri": "https://localhost:8080/"
        },
        "id": "9AnJW_AkZizl",
        "outputId": "6120f711-c57c-43c2-e49e-ae23be8050cd"
      },
      "source": [
        "model.predict([3])"
      ],
      "execution_count": null,
      "outputs": [
        {
          "output_type": "execute_result",
          "data": {
            "text/plain": [
              "array([[0.]], dtype=float32)"
            ]
          },
          "metadata": {
            "tags": []
          },
          "execution_count": 149
        }
      ]
    },
    {
      "cell_type": "code",
      "metadata": {
        "colab": {
          "base_uri": "https://localhost:8080/"
        },
        "id": "TkpRybgvZi21",
        "outputId": "1a1e5644-95c7-4b24-9034-967ea7976a2b"
      },
      "source": [
        "x[3]"
      ],
      "execution_count": null,
      "outputs": [
        {
          "output_type": "execute_result",
          "data": {
            "text/plain": [
              "71.73097840000001"
            ]
          },
          "metadata": {
            "tags": []
          },
          "execution_count": 150
        }
      ]
    },
    {
      "cell_type": "code",
      "metadata": {
        "colab": {
          "base_uri": "https://localhost:8080/"
        },
        "id": "CmTBTzYwaYeb",
        "outputId": "0f463b99-20d0-4ce5-a044-3cf49670dcfd"
      },
      "source": [
        "y[3]"
      ],
      "execution_count": null,
      "outputs": [
        {
          "output_type": "execute_result",
          "data": {
            "text/plain": [
              "220.04247030000002"
            ]
          },
          "metadata": {
            "tags": []
          },
          "execution_count": 151
        }
      ]
    },
    {
      "cell_type": "code",
      "metadata": {
        "id": "PF34csl8aa41"
      },
      "source": [
        ""
      ],
      "execution_count": null,
      "outputs": []
    },
    {
      "cell_type": "code",
      "metadata": {
        "id": "Zs79JDNl6PgS"
      },
      "source": [
        ""
      ],
      "execution_count": null,
      "outputs": []
    },
    {
      "cell_type": "code",
      "metadata": {
        "id": "3dlAQob46PjW"
      },
      "source": [
        ""
      ],
      "execution_count": null,
      "outputs": []
    },
    {
      "cell_type": "code",
      "metadata": {
        "id": "A_dy8eQv6PmK"
      },
      "source": [
        ""
      ],
      "execution_count": null,
      "outputs": []
    },
    {
      "cell_type": "code",
      "metadata": {
        "id": "gPYhRetU6PoV"
      },
      "source": [
        ""
      ],
      "execution_count": null,
      "outputs": []
    },
    {
      "cell_type": "code",
      "metadata": {
        "id": "hguqogAl6PsZ"
      },
      "source": [
        ""
      ],
      "execution_count": null,
      "outputs": []
    },
    {
      "cell_type": "code",
      "metadata": {
        "id": "BsYm4qNW6PwA"
      },
      "source": [
        ""
      ],
      "execution_count": null,
      "outputs": []
    },
    {
      "cell_type": "code",
      "metadata": {
        "id": "yaQ49ROn6U4c"
      },
      "source": [
        "import numpy as np\r\n",
        "import pandas as pd \r\n",
        "\r\n",
        "df1 = pd.DataFrame(np.random.randint(1,33,  size =(10000,5)), columns = ['s1','s2','s3','s4','s5'])\r\n",
        "df2 = pd.DataFrame(np.random.randint(34,41,  size =(10000,5)), columns = ['s1','s2','s3','s4','s5'])\r\n",
        "df3 = pd.DataFrame(np.random.randint(42,53,  size =(10000,5)), columns = ['s1','s2','s3','s4','s5'])\r\n",
        "df4 = pd.DataFrame(np.random.randint(54,66,  size =(10000,5)), columns = ['s1','s2','s3','s4','s5'])\r\n",
        "df5 = pd.DataFrame(np.random.randint(67,88,  size =(10000,5)), columns = ['s1','s2','s3','s4','s5'])\r\n",
        "df6 = pd.DataFrame(np.random.randint(89,100,  size =(10000,5)), columns = ['s1','s2','s3','s4','s5'])\r\n",
        "df7 = pd.DataFrame(np.random.randint(90,100,  size =(10000,5)), columns = ['s1','s2','s3','s4','s5'])\r\n",
        "\r\n",
        "df = pd.concat([df1,df2,df3,df4,df5,df6,df7])\r\n"
      ],
      "execution_count": null,
      "outputs": []
    },
    {
      "cell_type": "code",
      "metadata": {
        "id": "bvCYt6rL6Vx7"
      },
      "source": [
        "\r\n",
        "df['marks obtained'] = df.sum(axis = 1)\r\n",
        "\r\n",
        "df['Total'] = 500\r\n",
        "\r\n",
        "df['percentage'] = (df['marks obtained']/df['Total'])*100\r\n",
        "\r\n",
        "def grade(x):\r\n",
        "  if x >= 80:\r\n",
        "    return 'A+'\r\n",
        "  if x >= 70:\r\n",
        "    return 'A'\r\n",
        "  if x >= 60:\r\n",
        "    return 'B'\r\n",
        "  if x >= 50:\r\n",
        "    return 'C'\r\n",
        "  if x >= 40:\r\n",
        "    return 'D'\r\n",
        "  if x >= 33:\r\n",
        "    return 'E'\r\n",
        "  else:\r\n",
        "    return 'fail'\r\n",
        "\r\n",
        "df['grade'] = df['percentage'].apply(grade)\r\n",
        "\r\n",
        "dic = {'A+': 1, 'A': 2, 'B': 3, 'C': 4, 'D':5, 'E': 6, 'fail': 7}\r\n",
        "\r\n",
        "df['grade1'] = df['grade'].map(dic)\r\n"
      ],
      "execution_count": null,
      "outputs": []
    },
    {
      "cell_type": "code",
      "metadata": {
        "id": "68MW-qle7OvA"
      },
      "source": [
        "from tensorflow.keras.layers import Dense\r\n",
        "from tensorflow.keras.models import Sequential\r\n",
        "from tensorflow.keras.optimizers import Adam, SGD\r\n",
        "\r\n",
        "x = df.loc[:,'s1':'s5'].to_numpy()\r\n",
        "y = df['grade']\r\n",
        "\r\n",
        "y = pd.get_dummies(y).to_numpy()\r\n",
        "\r\n",
        "model = Sequential()\r\n",
        "model.add(Dense(5, activation = 'relu', input_shape =(5,)))\r\n",
        "model.add(Dense(5, activation = 'relu', input_shape =(5,)))\r\n",
        "\r\n",
        "model.add(Dense(5, activation = 'relu', input_shape =(5,)))\r\n",
        "model.add(Dense(7, activation = 'softmax'))\r\n"
      ],
      "execution_count": null,
      "outputs": []
    },
    {
      "cell_type": "code",
      "metadata": {
        "colab": {
          "base_uri": "https://localhost:8080/"
        },
        "id": "sl7ATEXI6bOw",
        "outputId": "2cb741e3-0cda-4939-871c-05d3cdec1a46"
      },
      "source": [
        "\r\n",
        "model.compile(optimizer = SGD(lr=0.002), loss='categorical_crossentropy', metrics = ['acc'])\r\n",
        "\r\n",
        "model.fit(x,y,epochs = 20,batch_size=50)"
      ],
      "execution_count": null,
      "outputs": [
        {
          "output_type": "stream",
          "text": [
            "Epoch 1/20\n",
            "1400/1400 [==============================] - 1s 809us/step - loss: 1.8304 - acc: 0.3056\n",
            "Epoch 2/20\n",
            "1400/1400 [==============================] - 1s 818us/step - loss: 1.8303 - acc: 0.3036\n",
            "Epoch 3/20\n",
            "1400/1400 [==============================] - 1s 852us/step - loss: 1.8292 - acc: 0.3065\n",
            "Epoch 4/20\n",
            "1400/1400 [==============================] - 1s 863us/step - loss: 1.8291 - acc: 0.3073\n",
            "Epoch 5/20\n",
            "1400/1400 [==============================] - 1s 894us/step - loss: 1.8328 - acc: 0.3041\n",
            "Epoch 6/20\n",
            "1400/1400 [==============================] - 1s 850us/step - loss: 1.8307 - acc: 0.3052\n",
            "Epoch 7/20\n",
            "1400/1400 [==============================] - 1s 851us/step - loss: 1.8327 - acc: 0.3038\n",
            "Epoch 8/20\n",
            "1400/1400 [==============================] - 1s 840us/step - loss: 1.8249 - acc: 0.3090\n",
            "Epoch 9/20\n",
            "1400/1400 [==============================] - 1s 918us/step - loss: 1.8267 - acc: 0.3069\n",
            "Epoch 10/20\n",
            "1400/1400 [==============================] - 1s 908us/step - loss: 1.8283 - acc: 0.3070\n",
            "Epoch 11/20\n",
            "1400/1400 [==============================] - 1s 863us/step - loss: 1.8283 - acc: 0.3073\n",
            "Epoch 12/20\n",
            "1400/1400 [==============================] - 1s 861us/step - loss: 1.8278 - acc: 0.3073\n",
            "Epoch 13/20\n",
            "1400/1400 [==============================] - 1s 858us/step - loss: 1.8269 - acc: 0.3082\n",
            "Epoch 14/20\n",
            "1400/1400 [==============================] - 1s 850us/step - loss: 1.8293 - acc: 0.3085\n",
            "Epoch 15/20\n",
            "1400/1400 [==============================] - 1s 849us/step - loss: 1.8290 - acc: 0.3066\n",
            "Epoch 16/20\n",
            "1400/1400 [==============================] - 1s 849us/step - loss: 1.8310 - acc: 0.3054\n",
            "Epoch 17/20\n",
            "1400/1400 [==============================] - 1s 852us/step - loss: 1.8295 - acc: 0.3055\n",
            "Epoch 18/20\n",
            "1400/1400 [==============================] - 1s 911us/step - loss: 1.8288 - acc: 0.3074\n",
            "Epoch 19/20\n",
            "1400/1400 [==============================] - 1s 881us/step - loss: 1.8297 - acc: 0.3061\n",
            "Epoch 20/20\n",
            "1400/1400 [==============================] - 1s 858us/step - loss: 1.8311 - acc: 0.3047\n"
          ],
          "name": "stdout"
        },
        {
          "output_type": "execute_result",
          "data": {
            "text/plain": [
              "<tensorflow.python.keras.callbacks.History at 0x7ff09d0d74a8>"
            ]
          },
          "metadata": {
            "tags": []
          },
          "execution_count": 27
        }
      ]
    },
    {
      "cell_type": "code",
      "metadata": {
        "colab": {
          "base_uri": "https://localhost:8080/"
        },
        "id": "Mi8NYx647lbZ",
        "outputId": "b9a156fd-0c60-455d-a021-c349bb051eac"
      },
      "source": [
        "x[1]"
      ],
      "execution_count": null,
      "outputs": [
        {
          "output_type": "execute_result",
          "data": {
            "text/plain": [
              "array([28, 16, 21,  2, 16])"
            ]
          },
          "metadata": {
            "tags": []
          },
          "execution_count": 18
        }
      ]
    },
    {
      "cell_type": "code",
      "metadata": {
        "colab": {
          "base_uri": "https://localhost:8080/"
        },
        "id": "P97HPknC7maD",
        "outputId": "38120be6-a259-4a7d-ca03-360eb86a239e"
      },
      "source": [
        "y[1]"
      ],
      "execution_count": null,
      "outputs": [
        {
          "output_type": "execute_result",
          "data": {
            "text/plain": [
              "array([0, 0, 0, 0, 0, 0, 1], dtype=uint8)"
            ]
          },
          "metadata": {
            "tags": []
          },
          "execution_count": 19
        }
      ]
    },
    {
      "cell_type": "code",
      "metadata": {
        "colab": {
          "base_uri": "https://localhost:8080/"
        },
        "id": "KrMrPa717oJA",
        "outputId": "cea9ffcc-6e92-4b6a-a8b7-a820a1c892b2"
      },
      "source": [
        "model.predict([[28, 16, 21,  2, 16]])"
      ],
      "execution_count": null,
      "outputs": [
        {
          "output_type": "execute_result",
          "data": {
            "text/plain": [
              "array([[0.5194877 , 0.72154015, 0.29904532, 0.38284367, 0.52289146,\n",
              "        0.5206481 , 0.5311943 ]], dtype=float32)"
            ]
          },
          "metadata": {
            "tags": []
          },
          "execution_count": 23
        }
      ]
    },
    {
      "cell_type": "code",
      "metadata": {
        "id": "_9_qQ1t58Mgr"
      },
      "source": [
        ""
      ],
      "execution_count": null,
      "outputs": []
    },
    {
      "cell_type": "code",
      "metadata": {
        "id": "KAAwH2_SFhyx"
      },
      "source": [
        ""
      ],
      "execution_count": null,
      "outputs": []
    },
    {
      "cell_type": "code",
      "metadata": {
        "id": "odJRn-tDFh1b"
      },
      "source": [
        ""
      ],
      "execution_count": null,
      "outputs": []
    },
    {
      "cell_type": "code",
      "metadata": {
        "id": "iqKp6TowFh4P"
      },
      "source": [
        ""
      ],
      "execution_count": null,
      "outputs": []
    },
    {
      "cell_type": "code",
      "metadata": {
        "id": "H-59ChZQFh7p"
      },
      "source": [
        "BOSTON HOUSING DATASET"
      ],
      "execution_count": null,
      "outputs": []
    },
    {
      "cell_type": "code",
      "metadata": {
        "id": "1zDDrT7CFlYj"
      },
      "source": [
        "\r\n",
        "from keras.datasets import boston_housing"
      ],
      "execution_count": null,
      "outputs": []
    },
    {
      "cell_type": "code",
      "metadata": {
        "colab": {
          "base_uri": "https://localhost:8080/"
        },
        "id": "EvSjQNrXFle-",
        "outputId": "a85d3fca-01b5-4972-f56f-26dcefcfe700"
      },
      "source": [
        "(X_train, y_train), (X_test, y_test) = boston_housing.load_data()"
      ],
      "execution_count": null,
      "outputs": [
        {
          "output_type": "stream",
          "text": [
            "Downloading data from https://storage.googleapis.com/tensorflow/tf-keras-datasets/boston_housing.npz\n",
            "57344/57026 [==============================] - 0s 0us/step\n"
          ],
          "name": "stdout"
        }
      ]
    },
    {
      "cell_type": "code",
      "metadata": {
        "colab": {
          "base_uri": "https://localhost:8080/"
        },
        "id": "iqFnQIoEQ-vo",
        "outputId": "2475a9f1-6350-4686-95b2-2859bd4403a6"
      },
      "source": [
        "print(X_train[0])"
      ],
      "execution_count": null,
      "outputs": [
        {
          "output_type": "stream",
          "text": [
            "[  1.23247   0.        8.14      0.        0.538     6.142    91.7\n",
            "   3.9769    4.      307.       21.      396.9      18.72   ]\n"
          ],
          "name": "stdout"
        }
      ]
    },
    {
      "cell_type": "code",
      "metadata": {
        "colab": {
          "base_uri": "https://localhost:8080/"
        },
        "id": "AeQk9jRuQ-zf",
        "outputId": "7bf19aa0-e249-4fac-a874-e56236735dfd"
      },
      "source": [
        "print(y_train[0])"
      ],
      "execution_count": null,
      "outputs": [
        {
          "output_type": "stream",
          "text": [
            "15.2\n"
          ],
          "name": "stdout"
        }
      ]
    },
    {
      "cell_type": "code",
      "metadata": {
        "colab": {
          "base_uri": "https://localhost:8080/"
        },
        "id": "R-pytG3iQ-21",
        "outputId": "d803f3de-9e45-4468-b642-36d9effc8ee9"
      },
      "source": [
        "print(X_test[0])"
      ],
      "execution_count": null,
      "outputs": [
        {
          "output_type": "stream",
          "text": [
            "[ 18.0846   0.      18.1      0.       0.679    6.434  100.       1.8347\n",
            "  24.     666.      20.2     27.25    29.05  ]\n"
          ],
          "name": "stdout"
        }
      ]
    },
    {
      "cell_type": "code",
      "metadata": {
        "colab": {
          "base_uri": "https://localhost:8080/"
        },
        "id": "6_ukFk3bQ-5P",
        "outputId": "078f4abf-e30e-4579-d5e4-f2c2a9b22a3a"
      },
      "source": [
        "print(y_test[0])"
      ],
      "execution_count": null,
      "outputs": [
        {
          "output_type": "stream",
          "text": [
            "7.2\n"
          ],
          "name": "stdout"
        }
      ]
    },
    {
      "cell_type": "code",
      "metadata": {
        "id": "SGQ7UYXCQ-68"
      },
      "source": [
        "StandardScaler.\r\n",
        "\r\n",
        " StandardScaler standardizes a feature by \r\n",
        "subtracting the mean and then scaling to unit variance. Unit variance means dividing all the values by the standard deviation."
      ],
      "execution_count": null,
      "outputs": []
    },
    {
      "cell_type": "code",
      "metadata": {
        "id": "VQ7phGs_Q-9L"
      },
      "source": [
        "from sklearn.preprocessing import StandardScaler\r\n",
        "scaler = StandardScaler()\r\n"
      ],
      "execution_count": null,
      "outputs": []
    },
    {
      "cell_type": "code",
      "metadata": {
        "colab": {
          "base_uri": "https://localhost:8080/"
        },
        "id": "WVF4MhjqSJ8J",
        "outputId": "18bcbc18-25ad-4908-a10d-d995f74cb23d"
      },
      "source": [
        "scaler.fit(X_train)"
      ],
      "execution_count": null,
      "outputs": [
        {
          "output_type": "execute_result",
          "data": {
            "text/plain": [
              "StandardScaler(copy=True, with_mean=True, with_std=True)"
            ]
          },
          "metadata": {
            "tags": []
          },
          "execution_count": 16
        }
      ]
    },
    {
      "cell_type": "code",
      "metadata": {
        "id": "JKYdihjiSKme"
      },
      "source": [
        "X_train_scaled = scaler.transform(X_train)\r\n",
        "X_test_scaled = scaler.transform(X_test)"
      ],
      "execution_count": null,
      "outputs": []
    },
    {
      "cell_type": "code",
      "metadata": {
        "colab": {
          "base_uri": "https://localhost:8080/"
        },
        "id": "82tzOU62TfGb",
        "outputId": "1b9db4d1-5691-4d90-c348-78e516a9d1fe"
      },
      "source": [
        "print(X_train_scaled[0])"
      ],
      "execution_count": null,
      "outputs": [
        {
          "output_type": "stream",
          "text": [
            "[-0.27224633 -0.48361547 -0.43576161 -0.25683275 -0.1652266  -0.1764426\n",
            "  0.81306188  0.1166983  -0.62624905 -0.59517003  1.14850044  0.44807713\n",
            "  0.8252202 ]\n"
          ],
          "name": "stdout"
        }
      ]
    },
    {
      "cell_type": "code",
      "metadata": {
        "id": "tkxhFLk-TiFE"
      },
      "source": [
        "from keras import layers,models"
      ],
      "execution_count": null,
      "outputs": []
    },
    {
      "cell_type": "code",
      "metadata": {
        "id": "_D9LnseNVvMl"
      },
      "source": [
        "model = models.Sequential()"
      ],
      "execution_count": null,
      "outputs": []
    },
    {
      "cell_type": "code",
      "metadata": {
        "id": "KkmKbRbCVxrA"
      },
      "source": [
        "model.add(layers.Dense(8, activation='relu', input_shape=[X_train.shape[1]]))\r\n",
        "model.add(layers.Dense(16, activation='relu'))"
      ],
      "execution_count": null,
      "outputs": []
    },
    {
      "cell_type": "code",
      "metadata": {
        "id": "4rrcv3nOWCgz"
      },
      "source": [
        "model.add(layers.Dense(1))"
      ],
      "execution_count": null,
      "outputs": []
    },
    {
      "cell_type": "code",
      "metadata": {
        "id": "6qADL3DZWJ13"
      },
      "source": [
        "model.compile(optimizer='rmsprop', loss='mse', metrics=['mae'])"
      ],
      "execution_count": null,
      "outputs": []
    },
    {
      "cell_type": "code",
      "metadata": {
        "colab": {
          "base_uri": "https://localhost:8080/"
        },
        "id": "qrPTVVPyWZJN",
        "outputId": "129fd4f3-5330-4988-8305-8422b611a5e5"
      },
      "source": [
        "history = model.fit(X_train_scaled, y_train, validation_split=0.2, epochs=100)"
      ],
      "execution_count": null,
      "outputs": [
        {
          "output_type": "stream",
          "text": [
            "Epoch 1/100\n",
            "11/11 [==============================] - 1s 27ms/step - loss: 8.1236 - mae: 2.0825 - val_loss: 13.8710 - val_mae: 2.5591\n",
            "Epoch 2/100\n",
            "11/11 [==============================] - 0s 5ms/step - loss: 7.5031 - mae: 2.0150 - val_loss: 13.5308 - val_mae: 2.5604\n",
            "Epoch 3/100\n",
            "11/11 [==============================] - 0s 5ms/step - loss: 7.8002 - mae: 1.9692 - val_loss: 13.7127 - val_mae: 2.5369\n",
            "Epoch 4/100\n",
            "11/11 [==============================] - 0s 5ms/step - loss: 9.5857 - mae: 2.1542 - val_loss: 13.6023 - val_mae: 2.5385\n",
            "Epoch 5/100\n",
            "11/11 [==============================] - 0s 5ms/step - loss: 7.8869 - mae: 1.9901 - val_loss: 13.7381 - val_mae: 2.5728\n",
            "Epoch 6/100\n",
            "11/11 [==============================] - 0s 5ms/step - loss: 8.5313 - mae: 2.0269 - val_loss: 13.7546 - val_mae: 2.5475\n",
            "Epoch 7/100\n",
            "11/11 [==============================] - 0s 5ms/step - loss: 8.1071 - mae: 2.1103 - val_loss: 13.7489 - val_mae: 2.5539\n",
            "Epoch 8/100\n",
            "11/11 [==============================] - 0s 4ms/step - loss: 7.2282 - mae: 1.9293 - val_loss: 13.6948 - val_mae: 2.5516\n",
            "Epoch 9/100\n",
            "11/11 [==============================] - 0s 4ms/step - loss: 6.9096 - mae: 1.8600 - val_loss: 13.7165 - val_mae: 2.5147\n",
            "Epoch 10/100\n",
            "11/11 [==============================] - 0s 4ms/step - loss: 10.3481 - mae: 2.1669 - val_loss: 13.6455 - val_mae: 2.5245\n",
            "Epoch 11/100\n",
            "11/11 [==============================] - 0s 5ms/step - loss: 7.7580 - mae: 1.9660 - val_loss: 13.7208 - val_mae: 2.5050\n",
            "Epoch 12/100\n",
            "11/11 [==============================] - 0s 5ms/step - loss: 8.5692 - mae: 2.1230 - val_loss: 13.8225 - val_mae: 2.5271\n",
            "Epoch 13/100\n",
            "11/11 [==============================] - 0s 5ms/step - loss: 8.1691 - mae: 2.0639 - val_loss: 13.7333 - val_mae: 2.5126\n",
            "Epoch 14/100\n",
            "11/11 [==============================] - 0s 5ms/step - loss: 7.8971 - mae: 2.0937 - val_loss: 13.8103 - val_mae: 2.5364\n",
            "Epoch 15/100\n",
            "11/11 [==============================] - 0s 5ms/step - loss: 7.4191 - mae: 2.0169 - val_loss: 13.8139 - val_mae: 2.5131\n",
            "Epoch 16/100\n",
            "11/11 [==============================] - 0s 5ms/step - loss: 7.8331 - mae: 2.0107 - val_loss: 13.7871 - val_mae: 2.5116\n",
            "Epoch 17/100\n",
            "11/11 [==============================] - 0s 5ms/step - loss: 7.1764 - mae: 1.9398 - val_loss: 13.9658 - val_mae: 2.5028\n",
            "Epoch 18/100\n",
            "11/11 [==============================] - 0s 5ms/step - loss: 7.7488 - mae: 1.9878 - val_loss: 13.8247 - val_mae: 2.5161\n",
            "Epoch 19/100\n",
            "11/11 [==============================] - 0s 5ms/step - loss: 8.2913 - mae: 2.0062 - val_loss: 13.7899 - val_mae: 2.5187\n",
            "Epoch 20/100\n",
            "11/11 [==============================] - 0s 5ms/step - loss: 7.4813 - mae: 1.9761 - val_loss: 13.9885 - val_mae: 2.5509\n",
            "Epoch 21/100\n",
            "11/11 [==============================] - 0s 5ms/step - loss: 7.9246 - mae: 2.0470 - val_loss: 13.6924 - val_mae: 2.5221\n",
            "Epoch 22/100\n",
            "11/11 [==============================] - 0s 5ms/step - loss: 7.5792 - mae: 2.0204 - val_loss: 13.7193 - val_mae: 2.5103\n",
            "Epoch 23/100\n",
            "11/11 [==============================] - 0s 5ms/step - loss: 7.0685 - mae: 1.9338 - val_loss: 13.8679 - val_mae: 2.5143\n",
            "Epoch 24/100\n",
            "11/11 [==============================] - 0s 5ms/step - loss: 6.8214 - mae: 1.9059 - val_loss: 13.9692 - val_mae: 2.5075\n",
            "Epoch 25/100\n",
            "11/11 [==============================] - 0s 6ms/step - loss: 8.1456 - mae: 1.9366 - val_loss: 13.5925 - val_mae: 2.5397\n",
            "Epoch 26/100\n",
            "11/11 [==============================] - 0s 5ms/step - loss: 8.1485 - mae: 2.0224 - val_loss: 13.5497 - val_mae: 2.5351\n",
            "Epoch 27/100\n",
            "11/11 [==============================] - 0s 5ms/step - loss: 8.4194 - mae: 2.0192 - val_loss: 13.5665 - val_mae: 2.5424\n",
            "Epoch 28/100\n",
            "11/11 [==============================] - 0s 5ms/step - loss: 8.7957 - mae: 2.0338 - val_loss: 13.6891 - val_mae: 2.5118\n",
            "Epoch 29/100\n",
            "11/11 [==============================] - 0s 5ms/step - loss: 10.1272 - mae: 2.0803 - val_loss: 14.0080 - val_mae: 2.5512\n",
            "Epoch 30/100\n",
            "11/11 [==============================] - 0s 5ms/step - loss: 8.8815 - mae: 2.1647 - val_loss: 14.3669 - val_mae: 2.5588\n",
            "Epoch 31/100\n",
            "11/11 [==============================] - 0s 4ms/step - loss: 8.0965 - mae: 2.1048 - val_loss: 14.2106 - val_mae: 2.5240\n",
            "Epoch 32/100\n",
            "11/11 [==============================] - 0s 5ms/step - loss: 7.5900 - mae: 1.9390 - val_loss: 14.1532 - val_mae: 2.5470\n",
            "Epoch 33/100\n",
            "11/11 [==============================] - 0s 5ms/step - loss: 8.2191 - mae: 1.9974 - val_loss: 13.9615 - val_mae: 2.5206\n",
            "Epoch 34/100\n",
            "11/11 [==============================] - 0s 5ms/step - loss: 7.8285 - mae: 2.0344 - val_loss: 13.7741 - val_mae: 2.5352\n",
            "Epoch 35/100\n",
            "11/11 [==============================] - 0s 4ms/step - loss: 7.0010 - mae: 1.9216 - val_loss: 13.9046 - val_mae: 2.5512\n",
            "Epoch 36/100\n",
            "11/11 [==============================] - 0s 5ms/step - loss: 9.8246 - mae: 2.2017 - val_loss: 13.8178 - val_mae: 2.5384\n",
            "Epoch 37/100\n",
            "11/11 [==============================] - 0s 5ms/step - loss: 7.9732 - mae: 2.0112 - val_loss: 13.8913 - val_mae: 2.5198\n",
            "Epoch 38/100\n",
            "11/11 [==============================] - 0s 5ms/step - loss: 9.4491 - mae: 2.1212 - val_loss: 13.8540 - val_mae: 2.5213\n",
            "Epoch 39/100\n",
            "11/11 [==============================] - 0s 6ms/step - loss: 7.5708 - mae: 1.9755 - val_loss: 13.9117 - val_mae: 2.5538\n",
            "Epoch 40/100\n",
            "11/11 [==============================] - 0s 5ms/step - loss: 8.1779 - mae: 2.0580 - val_loss: 13.7605 - val_mae: 2.4997\n",
            "Epoch 41/100\n",
            "11/11 [==============================] - 0s 5ms/step - loss: 6.7521 - mae: 1.9201 - val_loss: 13.6975 - val_mae: 2.5063\n",
            "Epoch 42/100\n",
            "11/11 [==============================] - 0s 5ms/step - loss: 7.4889 - mae: 2.0045 - val_loss: 13.9781 - val_mae: 2.5061\n",
            "Epoch 43/100\n",
            "11/11 [==============================] - 0s 5ms/step - loss: 8.4273 - mae: 2.0344 - val_loss: 13.9975 - val_mae: 2.4992\n",
            "Epoch 44/100\n",
            "11/11 [==============================] - 0s 5ms/step - loss: 7.0840 - mae: 1.9560 - val_loss: 13.9529 - val_mae: 2.5239\n",
            "Epoch 45/100\n",
            "11/11 [==============================] - 0s 5ms/step - loss: 7.5700 - mae: 1.9792 - val_loss: 14.0542 - val_mae: 2.5430\n",
            "Epoch 46/100\n",
            "11/11 [==============================] - 0s 5ms/step - loss: 7.7075 - mae: 1.9655 - val_loss: 13.9861 - val_mae: 2.5237\n",
            "Epoch 47/100\n",
            "11/11 [==============================] - 0s 5ms/step - loss: 9.1606 - mae: 2.0351 - val_loss: 13.9174 - val_mae: 2.5150\n",
            "Epoch 48/100\n",
            "11/11 [==============================] - 0s 5ms/step - loss: 7.5701 - mae: 1.9908 - val_loss: 13.7186 - val_mae: 2.5185\n",
            "Epoch 49/100\n",
            "11/11 [==============================] - 0s 5ms/step - loss: 7.7177 - mae: 1.9864 - val_loss: 13.8871 - val_mae: 2.5179\n",
            "Epoch 50/100\n",
            "11/11 [==============================] - 0s 4ms/step - loss: 7.9857 - mae: 2.0067 - val_loss: 14.1033 - val_mae: 2.5037\n",
            "Epoch 51/100\n",
            "11/11 [==============================] - 0s 5ms/step - loss: 7.4965 - mae: 1.9252 - val_loss: 13.9268 - val_mae: 2.5143\n",
            "Epoch 52/100\n",
            "11/11 [==============================] - 0s 5ms/step - loss: 7.4569 - mae: 1.9592 - val_loss: 13.9879 - val_mae: 2.5172\n",
            "Epoch 53/100\n",
            "11/11 [==============================] - 0s 5ms/step - loss: 9.1706 - mae: 2.0479 - val_loss: 14.1953 - val_mae: 2.5251\n",
            "Epoch 54/100\n",
            "11/11 [==============================] - 0s 5ms/step - loss: 7.6608 - mae: 1.9574 - val_loss: 13.9556 - val_mae: 2.5238\n",
            "Epoch 55/100\n",
            "11/11 [==============================] - 0s 5ms/step - loss: 6.9947 - mae: 1.9316 - val_loss: 13.9255 - val_mae: 2.5211\n",
            "Epoch 56/100\n",
            "11/11 [==============================] - 0s 17ms/step - loss: 7.9483 - mae: 1.9726 - val_loss: 14.4501 - val_mae: 2.5570\n",
            "Epoch 57/100\n",
            "11/11 [==============================] - 0s 5ms/step - loss: 6.9081 - mae: 1.9142 - val_loss: 14.4420 - val_mae: 2.5737\n",
            "Epoch 58/100\n",
            "11/11 [==============================] - 0s 5ms/step - loss: 8.3168 - mae: 2.0212 - val_loss: 14.1669 - val_mae: 2.5514\n",
            "Epoch 59/100\n",
            "11/11 [==============================] - 0s 5ms/step - loss: 7.3649 - mae: 1.9993 - val_loss: 14.0838 - val_mae: 2.5538\n",
            "Epoch 60/100\n",
            "11/11 [==============================] - 0s 5ms/step - loss: 8.0126 - mae: 1.9898 - val_loss: 14.0281 - val_mae: 2.5174\n",
            "Epoch 61/100\n",
            "11/11 [==============================] - 0s 5ms/step - loss: 7.4473 - mae: 2.0332 - val_loss: 14.3585 - val_mae: 2.5507\n",
            "Epoch 62/100\n",
            "11/11 [==============================] - 0s 5ms/step - loss: 7.8940 - mae: 2.0821 - val_loss: 14.1796 - val_mae: 2.5180\n",
            "Epoch 63/100\n",
            "11/11 [==============================] - 0s 5ms/step - loss: 8.0663 - mae: 1.9568 - val_loss: 14.0941 - val_mae: 2.5072\n",
            "Epoch 64/100\n",
            "11/11 [==============================] - 0s 4ms/step - loss: 10.1809 - mae: 2.1984 - val_loss: 13.7405 - val_mae: 2.5290\n",
            "Epoch 65/100\n",
            "11/11 [==============================] - 0s 4ms/step - loss: 7.6689 - mae: 1.9906 - val_loss: 13.6634 - val_mae: 2.5144\n",
            "Epoch 66/100\n",
            "11/11 [==============================] - 0s 5ms/step - loss: 7.0713 - mae: 1.9071 - val_loss: 14.0727 - val_mae: 2.5264\n",
            "Epoch 67/100\n",
            "11/11 [==============================] - 0s 5ms/step - loss: 9.4131 - mae: 2.1455 - val_loss: 14.0829 - val_mae: 2.5321\n",
            "Epoch 68/100\n",
            "11/11 [==============================] - 0s 5ms/step - loss: 9.5915 - mae: 2.1612 - val_loss: 13.8856 - val_mae: 2.5263\n",
            "Epoch 69/100\n",
            "11/11 [==============================] - 0s 5ms/step - loss: 7.0174 - mae: 1.9081 - val_loss: 14.2226 - val_mae: 2.5482\n",
            "Epoch 70/100\n",
            "11/11 [==============================] - 0s 6ms/step - loss: 6.5808 - mae: 1.8992 - val_loss: 13.8545 - val_mae: 2.5241\n",
            "Epoch 71/100\n",
            "11/11 [==============================] - 0s 5ms/step - loss: 8.0502 - mae: 2.0281 - val_loss: 14.1112 - val_mae: 2.5096\n",
            "Epoch 72/100\n",
            "11/11 [==============================] - 0s 5ms/step - loss: 8.6310 - mae: 2.0499 - val_loss: 13.9444 - val_mae: 2.5192\n",
            "Epoch 73/100\n",
            "11/11 [==============================] - 0s 5ms/step - loss: 7.7465 - mae: 1.9140 - val_loss: 13.8656 - val_mae: 2.5422\n",
            "Epoch 74/100\n",
            "11/11 [==============================] - 0s 5ms/step - loss: 6.8362 - mae: 1.8791 - val_loss: 13.9233 - val_mae: 2.5334\n",
            "Epoch 75/100\n",
            "11/11 [==============================] - 0s 5ms/step - loss: 6.1070 - mae: 1.8145 - val_loss: 14.0015 - val_mae: 2.5396\n",
            "Epoch 76/100\n",
            "11/11 [==============================] - 0s 5ms/step - loss: 6.5663 - mae: 1.8154 - val_loss: 13.9786 - val_mae: 2.5090\n",
            "Epoch 77/100\n",
            "11/11 [==============================] - 0s 5ms/step - loss: 8.3495 - mae: 2.0570 - val_loss: 13.9043 - val_mae: 2.5182\n",
            "Epoch 78/100\n",
            "11/11 [==============================] - 0s 5ms/step - loss: 8.2053 - mae: 2.0417 - val_loss: 13.8666 - val_mae: 2.5283\n",
            "Epoch 79/100\n",
            "11/11 [==============================] - 0s 5ms/step - loss: 7.5120 - mae: 2.0211 - val_loss: 14.0698 - val_mae: 2.5293\n",
            "Epoch 80/100\n",
            "11/11 [==============================] - 0s 5ms/step - loss: 8.2963 - mae: 1.9784 - val_loss: 13.7659 - val_mae: 2.5171\n",
            "Epoch 81/100\n",
            "11/11 [==============================] - 0s 5ms/step - loss: 7.3440 - mae: 1.9565 - val_loss: 14.0857 - val_mae: 2.5581\n",
            "Epoch 82/100\n",
            "11/11 [==============================] - 0s 5ms/step - loss: 10.4745 - mae: 2.1952 - val_loss: 14.0636 - val_mae: 2.5325\n",
            "Epoch 83/100\n",
            "11/11 [==============================] - 0s 5ms/step - loss: 8.3339 - mae: 2.0559 - val_loss: 13.9555 - val_mae: 2.5339\n",
            "Epoch 84/100\n",
            "11/11 [==============================] - 0s 5ms/step - loss: 7.8052 - mae: 1.9749 - val_loss: 13.6969 - val_mae: 2.4947\n",
            "Epoch 85/100\n",
            "11/11 [==============================] - 0s 5ms/step - loss: 8.9284 - mae: 2.0720 - val_loss: 13.7323 - val_mae: 2.5163\n",
            "Epoch 86/100\n",
            "11/11 [==============================] - 0s 5ms/step - loss: 9.7002 - mae: 2.0867 - val_loss: 13.9788 - val_mae: 2.5428\n",
            "Epoch 87/100\n",
            "11/11 [==============================] - 0s 5ms/step - loss: 6.6366 - mae: 1.8962 - val_loss: 13.9934 - val_mae: 2.5392\n",
            "Epoch 88/100\n",
            "11/11 [==============================] - 0s 5ms/step - loss: 9.6403 - mae: 2.0831 - val_loss: 13.7449 - val_mae: 2.5091\n",
            "Epoch 89/100\n",
            "11/11 [==============================] - 0s 5ms/step - loss: 7.3896 - mae: 2.0128 - val_loss: 14.0484 - val_mae: 2.4944\n",
            "Epoch 90/100\n",
            "11/11 [==============================] - 0s 5ms/step - loss: 7.5069 - mae: 1.9714 - val_loss: 13.8847 - val_mae: 2.5076\n",
            "Epoch 91/100\n",
            "11/11 [==============================] - 0s 5ms/step - loss: 8.0281 - mae: 1.9175 - val_loss: 13.8846 - val_mae: 2.5214\n",
            "Epoch 92/100\n",
            "11/11 [==============================] - 0s 5ms/step - loss: 7.5875 - mae: 1.9628 - val_loss: 13.8874 - val_mae: 2.5429\n",
            "Epoch 93/100\n",
            "11/11 [==============================] - 0s 6ms/step - loss: 8.2322 - mae: 2.0029 - val_loss: 13.7977 - val_mae: 2.5145\n",
            "Epoch 94/100\n",
            "11/11 [==============================] - 0s 5ms/step - loss: 7.7467 - mae: 1.9280 - val_loss: 13.8718 - val_mae: 2.5152\n",
            "Epoch 95/100\n",
            "11/11 [==============================] - 0s 5ms/step - loss: 7.0922 - mae: 1.9054 - val_loss: 13.8355 - val_mae: 2.5024\n",
            "Epoch 96/100\n",
            "11/11 [==============================] - 0s 5ms/step - loss: 6.8367 - mae: 1.8772 - val_loss: 13.7899 - val_mae: 2.5012\n",
            "Epoch 97/100\n",
            "11/11 [==============================] - 0s 5ms/step - loss: 7.4487 - mae: 1.8835 - val_loss: 13.7339 - val_mae: 2.5138\n",
            "Epoch 98/100\n",
            "11/11 [==============================] - 0s 5ms/step - loss: 6.8487 - mae: 1.8823 - val_loss: 13.8920 - val_mae: 2.5096\n",
            "Epoch 99/100\n",
            "11/11 [==============================] - 0s 5ms/step - loss: 8.6752 - mae: 1.9217 - val_loss: 14.0117 - val_mae: 2.5209\n",
            "Epoch 100/100\n",
            "11/11 [==============================] - 0s 5ms/step - loss: 6.7467 - mae: 1.9602 - val_loss: 14.0730 - val_mae: 2.5294\n"
          ],
          "name": "stdout"
        }
      ]
    },
    {
      "cell_type": "code",
      "metadata": {
        "colab": {
          "base_uri": "https://localhost:8080/"
        },
        "id": "kPFBoFx4Wu1k",
        "outputId": "77c8962c-e3b4-4e15-9c06-7959aebabd98"
      },
      "source": [
        "model.evaluate(X_test_scaled, y_test)\r\n"
      ],
      "execution_count": null,
      "outputs": [
        {
          "output_type": "stream",
          "text": [
            "4/4 [==============================] - 0s 2ms/step - loss: 20.5672 - mae: 3.0130\n"
          ],
          "name": "stdout"
        },
        {
          "output_type": "execute_result",
          "data": {
            "text/plain": [
              "[20.567214965820312, 3.013010263442993]"
            ]
          },
          "metadata": {
            "tags": []
          },
          "execution_count": 34
        }
      ]
    },
    {
      "cell_type": "code",
      "metadata": {
        "id": "eDiaOqIQXCXQ"
      },
      "source": [
        "The output values represent the loss (Mean Squarred Error) and the metrics (Mean Absolute Error)."
      ],
      "execution_count": null,
      "outputs": []
    },
    {
      "cell_type": "code",
      "metadata": {
        "colab": {
          "base_uri": "https://localhost:8080/"
        },
        "id": "B9bOJHrCXdHA",
        "outputId": "ce9d1211-d74e-42a5-ab7f-bde5842aeadf"
      },
      "source": [
        "# we get a sample data (the first 2 inputs from the training data)\r\n",
        "to_predict = X_train_scaled[:2]\r\n",
        "# we call the predict method\r\n",
        "predictions = model.predict(to_predict)\r\n",
        "# print the predictions\r\n",
        "print(predictions)\r\n",
        "# output\r\n",
        "# array([[13.272537], [39.808475]], dtype=float32)\r\n",
        "# print the real values\r\n",
        "print(y_train[:2])\r\n",
        "# array([15.2, 42.3])"
      ],
      "execution_count": null,
      "outputs": [
        {
          "output_type": "stream",
          "text": [
            "[[17.346634]\n",
            " [41.94991 ]]\n",
            "[15.2 42.3]\n"
          ],
          "name": "stdout"
        }
      ]
    },
    {
      "cell_type": "code",
      "metadata": {
        "id": "n3CIWFZ9XdKg"
      },
      "source": [
        ""
      ],
      "execution_count": null,
      "outputs": []
    },
    {
      "cell_type": "code",
      "metadata": {
        "id": "golsaCmFZ-xJ"
      },
      "source": [
        ""
      ],
      "execution_count": null,
      "outputs": []
    },
    {
      "cell_type": "code",
      "metadata": {
        "id": "qOZRqjZ7Z-05"
      },
      "source": [
        ""
      ],
      "execution_count": null,
      "outputs": []
    },
    {
      "cell_type": "code",
      "metadata": {
        "id": "4MCWXQOSZ-3r"
      },
      "source": [
        ""
      ],
      "execution_count": null,
      "outputs": []
    },
    {
      "cell_type": "code",
      "metadata": {
        "id": "976DsflzZ-5_"
      },
      "source": [
        ""
      ],
      "execution_count": null,
      "outputs": []
    },
    {
      "cell_type": "code",
      "metadata": {
        "id": "Fi9fNuWaZ-8v"
      },
      "source": [
        ""
      ],
      "execution_count": null,
      "outputs": []
    },
    {
      "cell_type": "code",
      "metadata": {
        "id": "uMi62Eq0Z-_M"
      },
      "source": [
        "MNIST_DATASET"
      ],
      "execution_count": null,
      "outputs": []
    },
    {
      "cell_type": "code",
      "metadata": {
        "id": "_Sb7nrG9Y5Es"
      },
      "source": [
        ""
      ],
      "execution_count": null,
      "outputs": []
    },
    {
      "cell_type": "code",
      "metadata": {
        "colab": {
          "base_uri": "https://localhost:8080/"
        },
        "id": "Sajk18djiwg3",
        "outputId": "50b0d850-dcfa-430e-fbc4-776f18891ec5"
      },
      "source": [
        "import tensorflow as tf\r\n",
        "from keras.datasets import mnist\r\n",
        "(train_images,train_labels),(test_images,test_labels)=mnist.load_data()\r\n",
        "train_images.shape         #6000 images , each of 28 width and height\r\n",
        "train_images\r\n",
        "test_images.shape\r\n"
      ],
      "execution_count": null,
      "outputs": [
        {
          "output_type": "execute_result",
          "data": {
            "text/plain": [
              "(10000, 28, 28)"
            ]
          },
          "metadata": {
            "tags": []
          },
          "execution_count": 115
        }
      ]
    },
    {
      "cell_type": "code",
      "metadata": {
        "colab": {
          "base_uri": "https://localhost:8080/"
        },
        "id": "2gEnOTJ1iwkK",
        "outputId": "5e925454-cfb8-4a14-9f39-c29185c6f349"
      },
      "source": [
        "len(test_images)\r\n",
        "len(train_images)"
      ],
      "execution_count": null,
      "outputs": [
        {
          "output_type": "execute_result",
          "data": {
            "text/plain": [
              "60000"
            ]
          },
          "metadata": {
            "tags": []
          },
          "execution_count": 116
        }
      ]
    },
    {
      "cell_type": "code",
      "metadata": {
        "colab": {
          "base_uri": "https://localhost:8080/",
          "height": 282
        },
        "id": "4TtUUS9wbS5D",
        "outputId": "912e826e-61b3-4887-fa74-550edb97e68a"
      },
      "source": [
        "import matplotlib.pyplot as plt \r\n",
        "\r\n",
        "digit = train_images[7]\r\n",
        "print(\"class label\",train_labels[7])\r\n",
        "digit\r\n",
        "digit.shape\r\n",
        "\r\n",
        "plt.imshow(digit,cmap=plt.cm.binary) \r\n",
        "plt.show()"
      ],
      "execution_count": null,
      "outputs": [
        {
          "output_type": "stream",
          "text": [
            "class label 3\n"
          ],
          "name": "stdout"
        },
        {
          "output_type": "display_data",
          "data": {
            "image/png": "[encoded data removed]",
            "text/plain": [
              "<Figure size 432x288 with 1 Axes>"
            ]
          },
          "metadata": {
            "tags": [],
            "needs_background": "light"
          }
        }
      ]
    },
    {
      "cell_type": "code",
      "metadata": {
        "colab": {
          "base_uri": "https://localhost:8080/"
        },
        "id": "iRT5CdywiwnA",
        "outputId": "2667803f-a0b5-4748-dd16-f85c289c20a5"
      },
      "source": [
        "train_images = train_images.reshape((60000,784))\r\n",
        "train_images.shape\r\n"
      ],
      "execution_count": null,
      "outputs": [
        {
          "output_type": "execute_result",
          "data": {
            "text/plain": [
              "(60000, 784)"
            ]
          },
          "metadata": {
            "tags": []
          },
          "execution_count": 117
        }
      ]
    },
    {
      "cell_type": "code",
      "metadata": {
        "colab": {
          "base_uri": "https://localhost:8080/"
        },
        "id": "C0_wJdL1iwpl",
        "outputId": "46a223d1-f9a3-484a-80c0-506368a512c2"
      },
      "source": [
        "train_images=train_images.astype('float32')/255\r\n",
        "\r\n",
        "test_images=test_images.reshape((10000,784))\r\n",
        "test_images.shape"
      ],
      "execution_count": null,
      "outputs": [
        {
          "output_type": "execute_result",
          "data": {
            "text/plain": [
              "(10000, 784)"
            ]
          },
          "metadata": {
            "tags": []
          },
          "execution_count": 118
        }
      ]
    },
    {
      "cell_type": "code",
      "metadata": {
        "colab": {
          "base_uri": "https://localhost:8080/"
        },
        "id": "4jxpP_A_iwsv",
        "outputId": "93a24c43-bd5a-4e4e-b16c-fb6ce27f92f8"
      },
      "source": [
        "test_images = test_images.astype('float32') / 255\r\n",
        "train_images.shape\r\n"
      ],
      "execution_count": null,
      "outputs": [
        {
          "output_type": "execute_result",
          "data": {
            "text/plain": [
              "(60000, 784)"
            ]
          },
          "metadata": {
            "tags": []
          },
          "execution_count": 119
        }
      ]
    },
    {
      "cell_type": "code",
      "metadata": {
        "id": "QiR_zVFIiwvv"
      },
      "source": [
        "from keras.utils import to_categorical\r\n",
        "train_labels=to_categorical(train_labels)\r\n",
        "test_labels=to_categorical(test_labels)\r\n"
      ],
      "execution_count": null,
      "outputs": []
    },
    {
      "cell_type": "code",
      "metadata": {
        "id": "w2NWOs10iwzS"
      },
      "source": [
        "from keras import layers,models\r\n",
        "network = models.Sequential()\r\n",
        "network.add(layers.Dense(4, activation = 'relu', input_shape= (28*28,)))\r\n",
        "network.add(layers.Dense(2,activation='relu'))\r\n",
        "network.add(layers.Dense(4,activation='relu'))\r\n",
        "network.add(layers.Dense(10,activation='softmax'))"
      ],
      "execution_count": null,
      "outputs": []
    },
    {
      "cell_type": "code",
      "metadata": {
        "colab": {
          "base_uri": "https://localhost:8080/"
        },
        "id": "HSD3Xes6jG3_",
        "outputId": "cd47c28e-b474-4c48-d418-89da44c1b84c"
      },
      "source": [
        "network.compile(optimizer='rmsprop', loss='categorical_crossentropy', metrics=['accuracy'])\r\n",
        "network.fit(train_images, train_labels, epochs=10, batch_size=128)\r\n"
      ],
      "execution_count": null,
      "outputs": [
        {
          "output_type": "stream",
          "text": [
            "Epoch 1/10\n",
            "469/469 [==============================] - 2s 2ms/step - loss: 2.0152 - accuracy: 0.2344\n",
            "Epoch 2/10\n",
            "469/469 [==============================] - 1s 2ms/step - loss: 1.6223 - accuracy: 0.3434\n",
            "Epoch 3/10\n",
            "469/469 [==============================] - 1s 2ms/step - loss: 1.3796 - accuracy: 0.4718\n",
            "Epoch 4/10\n",
            "469/469 [==============================] - 1s 2ms/step - loss: 1.2181 - accuracy: 0.5678\n",
            "Epoch 5/10\n",
            "469/469 [==============================] - 1s 2ms/step - loss: 1.1188 - accuracy: 0.5893\n",
            "Epoch 6/10\n",
            "469/469 [==============================] - 1s 2ms/step - loss: 1.0685 - accuracy: 0.6149\n",
            "Epoch 7/10\n",
            "469/469 [==============================] - 1s 2ms/step - loss: 1.0291 - accuracy: 0.6335\n",
            "Epoch 8/10\n",
            "469/469 [==============================] - 1s 2ms/step - loss: 0.9917 - accuracy: 0.6528\n",
            "Epoch 9/10\n",
            "469/469 [==============================] - 1s 2ms/step - loss: 0.9682 - accuracy: 0.6672\n",
            "Epoch 10/10\n",
            "469/469 [==============================] - 1s 2ms/step - loss: 0.9300 - accuracy: 0.7175\n"
          ],
          "name": "stdout"
        },
        {
          "output_type": "execute_result",
          "data": {
            "text/plain": [
              "<tensorflow.python.keras.callbacks.History at 0x7f183b02aeb8>"
            ]
          },
          "metadata": {
            "tags": []
          },
          "execution_count": 122
        }
      ]
    },
    {
      "cell_type": "code",
      "metadata": {
        "id": "_L9uZ5pEe1KM"
      },
      "source": [
        "# saving the model\r\n",
        "save_dir = \"/results/\"\r\n",
        "model_name = 'keras_mnist.h5'\r\n",
        "model_path = os.path.join(save_dir, model_name)\r\n",
        "model.save(model_path)\r\n",
        "print('Saved trained model at %s ' % model_path)"
      ],
      "execution_count": null,
      "outputs": []
    },
    {
      "cell_type": "code",
      "metadata": {
        "id": "0x_-tR42jmeI"
      },
      "source": [
        ""
      ],
      "execution_count": null,
      "outputs": []
    },
    {
      "cell_type": "code",
      "metadata": {
        "id": "jBcBHnjbqbAh"
      },
      "source": [
        ""
      ],
      "execution_count": null,
      "outputs": []
    },
    {
      "cell_type": "code",
      "metadata": {
        "id": "ZRuESnBgqbDV"
      },
      "source": [
        ""
      ],
      "execution_count": null,
      "outputs": []
    },
    {
      "cell_type": "code",
      "metadata": {
        "id": "WbRVW8ReqbGE"
      },
      "source": [
        ""
      ],
      "execution_count": null,
      "outputs": []
    },
    {
      "cell_type": "code",
      "metadata": {
        "id": "gUBMXTXpqbIc"
      },
      "source": [
        ""
      ],
      "execution_count": null,
      "outputs": []
    },
    {
      "cell_type": "code",
      "metadata": {
        "id": "cpNloFVuqbLB"
      },
      "source": [
        ""
      ],
      "execution_count": null,
      "outputs": []
    },
    {
      "cell_type": "code",
      "metadata": {
        "id": "01VmticoqbNj"
      },
      "source": [
        ""
      ],
      "execution_count": null,
      "outputs": []
    },
    {
      "cell_type": "code",
      "metadata": {
        "id": "C4_v--F9qbQL"
      },
      "source": [
        ""
      ],
      "execution_count": null,
      "outputs": []
    },
    {
      "cell_type": "code",
      "metadata": {
        "id": "iK4aG6_fqbS3"
      },
      "source": [
        ""
      ],
      "execution_count": null,
      "outputs": []
    },
    {
      "cell_type": "code",
      "metadata": {
        "id": "GGYKUes7qbVW"
      },
      "source": [
        ""
      ],
      "execution_count": null,
      "outputs": []
    },
    {
      "cell_type": "code",
      "metadata": {
        "id": "oU5nfQ_xqbXo"
      },
      "source": [
        ""
      ],
      "execution_count": null,
      "outputs": []
    },
    {
      "cell_type": "code",
      "metadata": {
        "id": "x2-pldudqbbs"
      },
      "source": [
        ""
      ],
      "execution_count": null,
      "outputs": []
    }
  ]
}